{
 "cells": [
  {
   "cell_type": "code",
   "execution_count": 1,
   "id": "438fd4b4",
   "metadata": {},
   "outputs": [],
   "source": [
    "import os "
   ]
  },
  {
   "cell_type": "code",
   "execution_count": 2,
   "id": "f0c849ee",
   "metadata": {},
   "outputs": [],
   "source": [
    "import ipywidgets as widgets\n",
    "from IPython.display import HTML\n",
    "from IPython.display import FileLink,FileLinks"
   ]
  },
  {
   "cell_type": "code",
   "execution_count": 3,
   "id": "4ae99663",
   "metadata": {},
   "outputs": [],
   "source": [
    "import pandas"
   ]
  },
  {
   "cell_type": "code",
   "execution_count": 4,
   "id": "dc18d6b3",
   "metadata": {},
   "outputs": [],
   "source": [
    "def create_download_link(html_file, title=\"Download Excel file\"):\n",
    "    df_lst = pandas.read_html(html_file)\n",
    "    if len(df_lst) > 0:\n",
    "        df_file_name_lst = [\"tabelle\" + str(i) + \".xlsx\" for i in range(len(df_lst))]\n",
    "        for df, file_name in zip(df_lst, df_file_name_lst):\n",
    "            df.to_excel(file_name)\n",
    "        return FileLinks(\".\", included_suffixes=\".xlsx\")\n",
    "    else: \n",
    "        return None"
   ]
  },
  {
   "cell_type": "code",
   "execution_count": 5,
   "id": "2cf081e4",
   "metadata": {},
   "outputs": [],
   "source": [
    "uploader = widgets.FileUpload(\n",
    "    accept=\".html\", \n",
    "    multiple=False\n",
    ")"
   ]
  },
  {
   "cell_type": "code",
   "execution_count": 6,
   "id": "3b8158b5",
   "metadata": {},
   "outputs": [],
   "source": [
    "out = widgets.Output()"
   ]
  },
  {
   "cell_type": "code",
   "execution_count": 7,
   "id": "a3f4c8f9",
   "metadata": {},
   "outputs": [
    {
     "data": {
      "application/vnd.jupyter.widget-view+json": {
       "model_id": "8b3579ed3aa94ea89dfde9b2bb254814",
       "version_major": 2,
       "version_minor": 0
      },
      "text/plain": [
       "FileUpload(value={}, accept='.html', description='Upload')"
      ]
     },
     "metadata": {},
     "output_type": "display_data"
    },
    {
     "data": {
      "application/vnd.jupyter.widget-view+json": {
       "model_id": "b6ef7b0e84a94061935fba2608088cd9",
       "version_major": 2,
       "version_minor": 0
      },
      "text/plain": [
       "Output()"
      ]
     },
     "metadata": {},
     "output_type": "display_data"
    }
   ],
   "source": [
    "display(uploader, out)"
   ]
  },
  {
   "cell_type": "code",
   "execution_count": 8,
   "id": "294d4f05",
   "metadata": {},
   "outputs": [],
   "source": [
    "def run_refresh(*ignore):\n",
    "    input_file = \"test.html\"\n",
    "    for f in uploader.value.keys():\n",
    "        file_name, file_extension = os.path.splitext(f)\n",
    "        if file_extension == \".html\":\n",
    "            with open(input_file, \"wb\") as fp:\n",
    "                fp.write(uploader.value[f][\"content\"])\n",
    "            with out:\n",
    "                display(create_download_link(html_file=input_file))\n",
    "        else: \n",
    "            print('Can not convert: ', f)"
   ]
  },
  {
   "cell_type": "code",
   "execution_count": 9,
   "id": "2ed06341",
   "metadata": {},
   "outputs": [],
   "source": [
    "uploader.observe(run_refresh, 'value')"
   ]
  }
 ],
 "metadata": {
  "kernelspec": {
   "display_name": "Python 3",
   "language": "python",
   "name": "python3"
  },
  "language_info": {
   "codemirror_mode": {
    "name": "ipython",
    "version": 3
   },
   "file_extension": ".py",
   "mimetype": "text/x-python",
   "name": "python",
   "nbconvert_exporter": "python",
   "pygments_lexer": "ipython3",
   "version": "3.9.4"
  }
 },
 "nbformat": 4,
 "nbformat_minor": 5
}
